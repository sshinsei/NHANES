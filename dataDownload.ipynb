{
 "cells": [
  {
   "cell_type": "code",
   "execution_count": 5,
   "metadata": {},
   "outputs": [
    {
     "name": "stdout",
     "output_type": "stream",
     "text": [
      "Looking in indexes: https://pypi.tuna.tsinghua.edu.cn/simple\n",
      "Could not fetch URL https://pypi.tuna.tsinghua.edu.cn/simple/requests/: There was a problem confirming the ssl certificate: HTTPSConnectionPool(host='pypi.tuna.tsinghua.edu.cn', port=443): Max retries exceeded with url: /simple/requests/ (Caused by SSLError(SSLZeroReturnError(6, 'TLS/SSL connection has been closed (EOF) (_ssl.c:1149)'))) - skipping\n",
      "Could not fetch URL https://pypi.tuna.tsinghua.edu.cn/simple/pip/: There was a problem confirming the ssl certificate: HTTPSConnectionPool(host='pypi.tuna.tsinghua.edu.cn', port=443): Max retries exceeded with url: /simple/pip/ (Caused by SSLError(SSLZeroReturnError(6, 'TLS/SSL connection has been closed (EOF) (_ssl.c:1149)'))) - skipping\n",
      "Note: you may need to restart the kernel to use updated packages.\n"
     ]
    },
    {
     "name": "stderr",
     "output_type": "stream",
     "text": [
      "WARNING: Retrying (Retry(total=4, connect=None, read=None, redirect=None, status=None)) after connection broken by 'SSLError(SSLZeroReturnError(6, 'TLS/SSL connection has been closed (EOF) (_ssl.c:1149)'))': /simple/requests/\n",
      "WARNING: Retrying (Retry(total=3, connect=None, read=None, redirect=None, status=None)) after connection broken by 'SSLError(SSLZeroReturnError(6, 'TLS/SSL connection has been closed (EOF) (_ssl.c:1149)'))': /simple/requests/\n",
      "WARNING: Retrying (Retry(total=2, connect=None, read=None, redirect=None, status=None)) after connection broken by 'SSLError(SSLZeroReturnError(6, 'TLS/SSL connection has been closed (EOF) (_ssl.c:1149)'))': /simple/requests/\n",
      "WARNING: Retrying (Retry(total=1, connect=None, read=None, redirect=None, status=None)) after connection broken by 'SSLError(SSLZeroReturnError(6, 'TLS/SSL connection has been closed (EOF) (_ssl.c:1149)'))': /simple/requests/\n",
      "WARNING: Retrying (Retry(total=0, connect=None, read=None, redirect=None, status=None)) after connection broken by 'SSLError(SSLZeroReturnError(6, 'TLS/SSL connection has been closed (EOF) (_ssl.c:1149)'))': /simple/requests/\n",
      "ERROR: Could not find a version that satisfies the requirement requests (from versions: none)\n",
      "ERROR: No matching distribution found for requests\n"
     ]
    }
   ],
   "source": [
    "pip install requests\n",
    "pip install tqdm"
   ]
  },
  {
   "cell_type": "code",
   "execution_count": 11,
   "metadata": {},
   "outputs": [],
   "source": [
    "# os.chdir(r'E:\\LZ\\25014\\00_rawdata')"
   ]
  },
  {
   "cell_type": "code",
   "execution_count": 4,
   "metadata": {},
   "outputs": [
    {
     "ename": "ModuleNotFoundError",
     "evalue": "No module named 'requests'",
     "output_type": "error",
     "traceback": [
      "\u001b[1;31m---------------------------------------------------------------------------\u001b[0m",
      "\u001b[1;31mModuleNotFoundError\u001b[0m                       Traceback (most recent call last)",
      "Cell \u001b[1;32mIn[4], line 2\u001b[0m\n\u001b[0;32m      1\u001b[0m \u001b[38;5;28;01mimport\u001b[39;00m \u001b[38;5;21;01mos\u001b[39;00m\n\u001b[1;32m----> 2\u001b[0m \u001b[38;5;28;01mimport\u001b[39;00m \u001b[38;5;21;01mrequests\u001b[39;00m\n\u001b[0;32m      3\u001b[0m \u001b[38;5;28;01mfrom\u001b[39;00m \u001b[38;5;21;01mtqdm\u001b[39;00m \u001b[38;5;28;01mimport\u001b[39;00m tqdm\n\u001b[0;32m      4\u001b[0m \u001b[38;5;28;01mimport\u001b[39;00m \u001b[38;5;21;01mtime\u001b[39;00m\n",
      "\u001b[1;31mModuleNotFoundError\u001b[0m: No module named 'requests'"
     ]
    }
   ],
   "source": [
    "import os\n",
    "import requests\n",
    "from tqdm import tqdm\n",
    "import time"
   ]
  },
  {
   "cell_type": "code",
   "execution_count": 2,
   "metadata": {},
   "outputs": [],
   "source": [
    "def get_data_desc(data_code):\n",
    "    data_desc_dict = {\n",
    "        \"ACQ\": \"全部状况问卷身体测量数据\",\n",
    "        \"ALQ\": \"饮酒估计数据\",\n",
    "        \"AUQ\": \"听力测量数据\",\n",
    "        \"BPQ\": \"血压调查问卷数据\",\n",
    "        \"CBQ\": \"心血管健康问卷数据\",\n",
    "        \"CDQ\": \"心血管疾病问卷数据\",\n",
    "        \"COT\": \"血清中可替宁数据\",\n",
    "        \"DEQ\": \"抑郁症筛查问卷数据\",\n",
    "        \"DIQ\": \"糖尿病问卷数据\",\n",
    "        \"DLQ\": \"残疾问卷数据\",\n",
    "        \"ECQ\": \"环境暴露问卷数据\",\n",
    "        \"FSQ\": \"食品安全问卷数据\",\n",
    "        \"GLU\": \"血糖数据\",\n",
    "        \"HDL\": \"高密度脂蛋白胆固醇数据\",\n",
    "        \"HIQ\": \"健康保险问卷数据\",\n",
    "        \"HOQ\": \"住房特征问卷数据\",\n",
    "        \"HSQ\": \"健康状况问卷数据\",\n",
    "        \"MCQ\": \"医疗状况问卷数据\",\n",
    "        \"PAQ\": \"体力活动问卷数据\",\n",
    "        \"SMQ\": \"吸烟问卷数据\",\n",
    "        \"DEMO\": \"人口统计学数据\",\n",
    "        \"BPX\": \"血压测量数据\"\n",
    "    }\n",
    "    # 移除数据代码中的后缀（如 _D, _E 等）\n",
    "    base_code = data_code.split('_')[0] if '_' in data_code else data_code\n",
    "    return data_desc_dict.get(base_code, data_code)\n",
    "\n",
    "def download_file(url, local_filename):\n",
    "    max_retries = 3\n",
    "    retry_count = 0\n",
    "    \n",
    "    while retry_count < max_retries:\n",
    "        try:\n",
    "            with requests.get(url, stream=True, timeout=30) as r:\n",
    "                r.raise_for_status()\n",
    "                total_size = int(r.headers.get('content-length', 0))\n",
    "                \n",
    "                with open(local_filename, 'wb') as f:\n",
    "                    with tqdm(total=total_size, unit='B', unit_scale=True, desc=os.path.basename(local_filename)) as pbar:\n",
    "                        for chunk in r.iter_content(chunk_size=8192):\n",
    "                            if chunk:\n",
    "                                size = f.write(chunk)\n",
    "                                pbar.update(size)\n",
    "                return True\n",
    "        except requests.exceptions.RequestException as e:\n",
    "            retry_count += 1\n",
    "            print(f\"下载失败 {url}, 尝试次数 {retry_count}/{max_retries}\")\n",
    "            if retry_count == max_retries:\n",
    "                print(f\"下载失败: {e}\")\n",
    "                return False\n",
    "            time.sleep(2)\n",
    "\n",
    "def get_cycle_letter(year):\n",
    "    \"\"\"根据年份获取周期字母\"\"\"\n",
    "    cycle_letters = {\n",
    "        \"1999-2000\": \"A\",\n",
    "        \"2001-2002\": \"B\",\n",
    "        \"2003-2004\": \"C\",\n",
    "        \"2005-2006\": \"D\",\n",
    "        \"2007-2008\": \"E\",\n",
    "        \"2009-2010\": \"F\",\n",
    "        \"2011-2012\": \"G\",\n",
    "        \"2013-2014\": \"H\",\n",
    "        \"2015-2016\": \"I\",\n",
    "        \"2017-2018\": \"J\",\n",
    "        \"2019-2020\": \"K\",\n",
    "        \"August 2021-August 2023\": \"L\"\n",
    "    }\n",
    "    return cycle_letters.get(year, \"\")\n",
    "\n",
    "def download_nhanes_data(years, data_codes, output_dir):\n",
    "    \"\"\"\n",
    "    下载NHANES数据文件\n",
    "    \n",
    "    参数:\n",
    "    years (list): 年份列表，例如 [\"2005-2006\", \"2007-2008\"]\n",
    "    data_codes (list): 数据代码列表\n",
    "    output_dir (str): 输出目录路径\n",
    "    \"\"\"\n",
    "    if not os.path.exists(output_dir):\n",
    "        os.makedirs(output_dir)\n",
    "        \n",
    "    total_files = len(years) * len(data_codes)  # 每个数据集只下载XPT文件\n",
    "    current_file = 0\n",
    "    \n",
    "    for year in years:\n",
    "        year_dir = os.path.join(output_dir, year)\n",
    "        if not os.path.exists(year_dir):\n",
    "            os.makedirs(year_dir)\n",
    "            \n",
    "        cycle_letter = get_cycle_letter(year)\n",
    "        if not cycle_letter:\n",
    "            print(f\"警告: 未找到年份 {year} 对应的周期字母\")\n",
    "            continue\n",
    "            \n",
    "        # 获取周期开始年份（例如从\"2005-2006\"获取\"2005\"）\n",
    "        start_year = year.split('-')[0]\n",
    "            \n",
    "        for data_code in data_codes:\n",
    "            time.sleep(1)  # 避免请求过于频繁\n",
    "            try:\n",
    "                # 获取基础数据代码（移除后缀）\n",
    "                base_code = data_code.split('_')[0] if '_' in data_code else data_code\n",
    "                cycle_letter = get_cycle_letter(year)\n",
    "\n",
    "                # 1999-2000 特殊处理：无后缀\n",
    "                if year == \"1999-2000\":\n",
    "                    file_code = base_code\n",
    "                else:\n",
    "                    file_code = f\"{base_code}_{cycle_letter}\"\n",
    "                \n",
    "                # 构建XPT文件URL（使用start_year）\n",
    "                xpt_url = f\"https://wwwn.cdc.gov/Nchs/Data/Nhanes/Public/{start_year}/DataFiles/{file_code}.xpt\"\n",
    "                \n",
    "                current_file += 1\n",
    "                data_desc = get_data_desc(data_code)\n",
    "                local_filename = os.path.join(year_dir, f\"{year}_{file_code}.xpt\")\n",
    "                \n",
    "                print(f\"\\n[{current_file}/{total_files}] 正在下载: {xpt_url}\")\n",
    "                if os.path.exists(local_filename):\n",
    "                    print(f\"文件已存在，跳过: {local_filename}\")\n",
    "                    continue\n",
    "                    \n",
    "                if download_file(xpt_url, local_filename):\n",
    "                    print(f\"下载完成: {local_filename}\")\n",
    "                else:\n",
    "                    print(f\"下载失败: {local_filename}\")\n",
    "                    \n",
    "            except Exception as e:\n",
    "                print(f\"处理数据代码 {data_code} 时发生错误: {e}\")\n",
    "\n",
    "\n"
   ]
  },
  {
   "cell_type": "code",
   "execution_count": 5,
   "metadata": {},
   "outputs": [],
   "source": [
    "years = [\"2005-2006\",\"2007-2008\",\"2009-2010\"]\n",
    "# data_codes1 = [\"DEMO\", \"CBC\", \"BIOPRO\", \"ALQ\", \"SMQ\", \"MCQ\", \"BPQ\", \"DIQ\", \"DLQ\", \"GHB\", \"GLU\", \"BPX\"]\n",
    "data_codes1 = [\"RHQ\"]"
   ]
  },
  {
   "cell_type": "code",
   "execution_count": 20,
   "metadata": {},
   "outputs": [],
   "source": [
    "def get_data_code(year):\n",
    "    if year in [\"1999-2000\", \"2001-2002\", \"2003-2004\", \"2005-2006\", \"2007-2008\", \"2009-2010\"]:\n",
    "        return [\"CRP\"]\n",
    "    elif year in [\"2015-2016\", \"2017-2018\"]:\n",
    "        return [\"HSCRP\"]\n",
    "    else:\n",
    "        return []  # 对于2011-2012和2013-2014返回空列表\n",
    "\n",
    "data_codes2 = {year: get_data_code(year) for year in years}"
   ]
  },
  {
   "cell_type": "code",
   "execution_count": 6,
   "metadata": {},
   "outputs": [
    {
     "name": "stdout",
     "output_type": "stream",
     "text": [
      "\n",
      "[1/9] 正在下载: https://wwwn.cdc.gov/Nchs/Data/Nhanes/Public/2005/DataFiles/TCHOL_D.xpt\n"
     ]
    },
    {
     "name": "stderr",
     "output_type": "stream",
     "text": [
      "2005-2006_TCHOL_D.xpt: 100%|██████████| 195k/195k [00:00<00:00, 311kB/s]  \n"
     ]
    },
    {
     "name": "stdout",
     "output_type": "stream",
     "text": [
      "下载完成: E:/LZ/25014/00_rawdata\\2005-2006\\2005-2006_TCHOL_D.xpt\n",
      "\n",
      "[2/9] 正在下载: https://wwwn.cdc.gov/Nchs/Data/Nhanes/Public/2005/DataFiles/HDL_D.xpt\n"
     ]
    },
    {
     "name": "stderr",
     "output_type": "stream",
     "text": [
      "2005-2006_HDL_D.xpt: 100%|██████████| 195k/195k [00:00<00:00, 288kB/s]  \n"
     ]
    },
    {
     "name": "stdout",
     "output_type": "stream",
     "text": [
      "下载完成: E:/LZ/25014/00_rawdata\\2005-2006\\2005-2006_HDL_D.xpt\n",
      "\n",
      "[3/9] 正在下载: https://wwwn.cdc.gov/Nchs/Data/Nhanes/Public/2005/DataFiles/TRIGLY_D.xpt\n"
     ]
    },
    {
     "name": "stderr",
     "output_type": "stream",
     "text": [
      "2005-2006_TRIGLY_D.xpt: 100%|██████████| 216k/216k [00:00<00:00, 325kB/s] \n"
     ]
    },
    {
     "name": "stdout",
     "output_type": "stream",
     "text": [
      "下载完成: E:/LZ/25014/00_rawdata\\2005-2006\\2005-2006_TRIGLY_D.xpt\n",
      "\n",
      "[4/9] 正在下载: https://wwwn.cdc.gov/Nchs/Data/Nhanes/Public/2007/DataFiles/TCHOL_E.xpt\n"
     ]
    },
    {
     "name": "stderr",
     "output_type": "stream",
     "text": [
      "2007-2008_TCHOL_E.xpt: 100%|██████████| 196k/196k [00:00<00:00, 1.39MB/s]\n"
     ]
    },
    {
     "name": "stdout",
     "output_type": "stream",
     "text": [
      "下载完成: E:/LZ/25014/00_rawdata\\2007-2008\\2007-2008_TCHOL_E.xpt\n",
      "\n",
      "[5/9] 正在下载: https://wwwn.cdc.gov/Nchs/Data/Nhanes/Public/2007/DataFiles/HDL_E.xpt\n"
     ]
    },
    {
     "name": "stderr",
     "output_type": "stream",
     "text": [
      "2007-2008_HDL_E.xpt: 100%|██████████| 196k/196k [00:00<00:00, 2.27MB/s]\n"
     ]
    },
    {
     "name": "stdout",
     "output_type": "stream",
     "text": [
      "下载完成: E:/LZ/25014/00_rawdata\\2007-2008\\2007-2008_HDL_E.xpt\n",
      "\n",
      "[6/9] 正在下载: https://wwwn.cdc.gov/Nchs/Data/Nhanes/Public/2007/DataFiles/TRIGLY_E.xpt\n"
     ]
    },
    {
     "name": "stderr",
     "output_type": "stream",
     "text": [
      "2007-2008_TRIGLY_E.xpt: 100%|██████████| 161k/161k [00:00<00:00, 246kB/s]  \n"
     ]
    },
    {
     "name": "stdout",
     "output_type": "stream",
     "text": [
      "下载完成: E:/LZ/25014/00_rawdata\\2007-2008\\2007-2008_TRIGLY_E.xpt\n",
      "\n",
      "[7/9] 正在下载: https://wwwn.cdc.gov/Nchs/Data/Nhanes/Public/2009/DataFiles/TCHOL_F.xpt\n"
     ]
    },
    {
     "name": "stderr",
     "output_type": "stream",
     "text": [
      "2009-2010_TCHOL_F.xpt: 100%|██████████| 207k/207k [00:00<00:00, 1.24MB/s]\n"
     ]
    },
    {
     "name": "stdout",
     "output_type": "stream",
     "text": [
      "下载完成: E:/LZ/25014/00_rawdata\\2009-2010\\2009-2010_TCHOL_F.xpt\n",
      "\n",
      "[8/9] 正在下载: https://wwwn.cdc.gov/Nchs/Data/Nhanes/Public/2009/DataFiles/HDL_F.xpt\n"
     ]
    },
    {
     "name": "stderr",
     "output_type": "stream",
     "text": [
      "2009-2010_HDL_F.xpt: 100%|██████████| 207k/207k [00:00<00:00, 1.35MB/s]\n"
     ]
    },
    {
     "name": "stdout",
     "output_type": "stream",
     "text": [
      "下载完成: E:/LZ/25014/00_rawdata\\2009-2010\\2009-2010_HDL_F.xpt\n",
      "\n",
      "[9/9] 正在下载: https://wwwn.cdc.gov/Nchs/Data/Nhanes/Public/2009/DataFiles/TRIGLY_F.xpt\n"
     ]
    },
    {
     "name": "stderr",
     "output_type": "stream",
     "text": [
      "2009-2010_TRIGLY_F.xpt: 100%|██████████| 174k/174k [00:00<00:00, 708kB/s] "
     ]
    },
    {
     "name": "stdout",
     "output_type": "stream",
     "text": [
      "下载完成: E:/LZ/25014/00_rawdata\\2009-2010\\2009-2010_TRIGLY_F.xpt\n"
     ]
    },
    {
     "name": "stderr",
     "output_type": "stream",
     "text": [
      "\n"
     ]
    }
   ],
   "source": [
    "download_nhanes_data(years,data_codes1,'E:/LZ/25014/00_rawdata')\n",
    "# download_nhanes_data(years,data_codes2,'E:/LZ/25014/00_rawdata')\n"
   ]
  }
 ],
 "metadata": {
  "kernelspec": {
   "display_name": "Python 3",
   "language": "python",
   "name": "python3"
  },
  "language_info": {
   "codemirror_mode": {
    "name": "ipython",
    "version": 3
   },
   "file_extension": ".py",
   "mimetype": "text/x-python",
   "name": "python",
   "nbconvert_exporter": "python",
   "pygments_lexer": "ipython3",
   "version": "3.8.20"
  },
  "orig_nbformat": 4
 },
 "nbformat": 4,
 "nbformat_minor": 2
}
